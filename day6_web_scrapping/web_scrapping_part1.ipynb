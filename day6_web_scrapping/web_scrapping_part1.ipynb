{
 "cells": [
  {
   "cell_type": "code",
   "execution_count": 1,
   "id": "d9e62f95-6cf0-4ee1-9e9f-eff0f5bdcb25",
   "metadata": {},
   "outputs": [],
   "source": [
    "import pandas as pd \n",
    "import requests\n",
    "from bs4 import BeautifulSoup"
   ]
  },
  {
   "cell_type": "code",
   "execution_count": 3,
   "id": "cb22db63-c9b8-4cc4-bf4f-ed0f9955e1e2",
   "metadata": {},
   "outputs": [
    {
     "data": {
      "text/plain": [
       "<Response [403]>"
      ]
     },
     "execution_count": 3,
     "metadata": {},
     "output_type": "execute_result"
    }
   ],
   "source": [
    "requests.get('https://www.ambitionbox.com/list-of-companies?page=1')\n",
    "# response 403 bad requests"
   ]
  },
  {
   "cell_type": "code",
   "execution_count": 5,
   "id": "02a8c220-90b1-453b-a6f3-2308685b8a81",
   "metadata": {},
   "outputs": [
    {
     "data": {
      "text/plain": [
       "'<HTML><HEAD>\\n<TITLE>Access Denied</TITLE>\\n</HEAD><BODY>\\n<H1>Access Denied</H1>\\n \\nYou don\\'t have permission to access \"http&#58;&#47;&#47;www&#46;ambitionbox&#46;com&#47;list&#45;of&#45;companies&#63;\" on this server.<P>\\nReference&#32;&#35;18&#46;5f43017&#46;1746275066&#46;6f4ce9a\\n<P>https&#58;&#47;&#47;errors&#46;edgesuite&#46;net&#47;18&#46;5f43017&#46;1746275066&#46;6f4ce9a</P>\\n</BODY>\\n</HTML>\\n'"
      ]
     },
     "execution_count": 5,
     "metadata": {},
     "output_type": "execute_result"
    }
   ],
   "source": [
    "requests.get('https://www.ambitionbox.com/list-of-companies?page=1').text\n"
   ]
  },
  {
   "cell_type": "code",
   "execution_count": 7,
   "id": "40739401-b528-44cf-8b60-35c49cfcd6df",
   "metadata": {},
   "outputs": [
    {
     "name": "stdout",
     "output_type": "stream",
     "text": [
      "✅ Firefox launched successfully.\n"
     ]
    }
   ],
   "source": [
    "from selenium import webdriver\n",
    "#  This imports the main Selenium WebDriver module which lets you control browser\n",
    "from selenium.webdriver.firefox.service import Service\n",
    "# It helps in managing the GeckoDriver executable that Selenium uses to launch and control Firefox.\n",
    "from selenium.webdriver.firefox.options import Options\n",
    "# This imports browser options for Firefox (like headless mode, window size, etc.).\n",
    "\n",
    "options = Options()\n",
    "options.add_argument(\"--start-maximized\")\n",
    "# Here you’re creating a browser configuration object.\n",
    "# --start-maximized: Tells the browser to open in full-screen mode (maximized).\n",
    "\n",
    "# This will automatically use geckodriver if it's in PATH\n",
    "service = Service()\n",
    "# This prepares the GeckoDriver backend service\n",
    "try:\n",
    "    driver = webdriver.Firefox(service=service, options=options)\n",
    "    driver.get(\"https://www.google.com\")\n",
    "    print(\"✅ Firefox launched successfully.\")\n",
    "    driver.quit() # Tells Selenium to:End the session.Close Firefox. Stop GeckoDriver.Clean up memory.\n",
    "except Exception as e:\n",
    "    print(\"❌ Error:\", e)\n",
    "    # Selenium communicates with GeckoDriver via WebDriver Protocol (W3C standard) using HTTP JSON requests.\n"
   ]
  },
  {
   "cell_type": "code",
   "execution_count": null,
   "id": "ec4b5d5e-7648-4cb6-abf0-53e4fe37ef18",
   "metadata": {},
   "outputs": [],
   "source": [
    "headers={'User-Agent':'Mozilla/5.0 (Windows NT 6.3; Win 64 ; x64) Apple WeKit /537.36(KHTML , like Gecko) Chrome/80.0.3987.162 Safari/537.36'} \n",
    "requests.get('https://www.ambitionbox.com/list-of-companies?page=1',headers=headers).text"
   ]
  },
  {
   "cell_type": "code",
   "execution_count": null,
   "id": "d55e60ee-3c3f-49d8-a6c4-d81f8f508493",
   "metadata": {},
   "outputs": [],
   "source": [
    "headers={'User-Agent':'Mozilla/5.0 (Windows NT 6.3; Win 64 ; x64) Apple WeKit /537.36(KHTML , like Gecko) Chrome/80.0.3987.162 Safari/537.36'} \n",
    "requests.get('https://www.ambitionbox.com/overview/tcs-overview',headers=headers).text"
   ]
  },
  {
   "cell_type": "code",
   "execution_count": 19,
   "id": "ffa93338-26df-4e05-bf19-1c608a83ac96",
   "metadata": {},
   "outputs": [],
   "source": [
    "webpage=requests.get('https://www.ambitionbox.com/list-of-companies?page=1').text"
   ]
  },
  {
   "cell_type": "code",
   "execution_count": 21,
   "id": "762738b0-6f44-494b-acc3-e783e70599a4",
   "metadata": {},
   "outputs": [],
   "source": [
    "soup=BeautifulSoup(webpage,'lxml')"
   ]
  },
  {
   "cell_type": "code",
   "execution_count": 23,
   "id": "dea33937-7d7b-4aa6-90c3-58d68b65743b",
   "metadata": {},
   "outputs": [
    {
     "data": {
      "text/plain": [
       "'Access Denied'"
      ]
     },
     "execution_count": 23,
     "metadata": {},
     "output_type": "execute_result"
    }
   ],
   "source": [
    "soup.find_all('h1')[0].text"
   ]
  },
  {
   "cell_type": "code",
   "execution_count": 25,
   "id": "bd1d4d2c-297f-47ba-87f8-dbf1f06a5ff5",
   "metadata": {},
   "outputs": [],
   "source": [
    "for i in soup.find_all('h2'):\n",
    "  print(i.text.strip())\n",
    "     "
   ]
  },
  {
   "cell_type": "code",
   "execution_count": null,
   "id": "691cb116-7e29-414d-a972-c40d1cb976cb",
   "metadata": {},
   "outputs": [],
   "source": [
    "import requests\n",
    "from bs4 import BeautifulSoup\n",
    "\n",
    "headers = {\n",
    "    \"User-Agent\": \"Mozilla/5.0 (Windows NT 10.0; Win64; x64) AppleWebKit/537.36 (KHTML, like Gecko) Chrome/123.0.0.0 Safari/537.36\"\n",
    "}\n",
    "\n",
    "url = \"https://www.ambitionbox.com/list-of-companies?page=1\"\n",
    "response = requests.get(url, headers=headers)\n",
    "\n",
    "soup = BeautifulSoup(response.text, 'html.parser')\n",
    "\n",
    "for tag in soup.select(\"h2.companyName span\"):\n",
    "    print(tag.text)\n"
   ]
  },
  {
   "cell_type": "code",
   "execution_count": null,
   "id": "3a9c4f0c-2ce8-4663-bdd7-10eda314f2dc",
   "metadata": {},
   "outputs": [],
   "source": []
  }
 ],
 "metadata": {
  "kernelspec": {
   "display_name": "Python [conda env:base] *",
   "language": "python",
   "name": "conda-base-py"
  },
  "language_info": {
   "codemirror_mode": {
    "name": "ipython",
    "version": 3
   },
   "file_extension": ".py",
   "mimetype": "text/x-python",
   "name": "python",
   "nbconvert_exporter": "python",
   "pygments_lexer": "ipython3",
   "version": "3.12.7"
  }
 },
 "nbformat": 4,
 "nbformat_minor": 5
}
